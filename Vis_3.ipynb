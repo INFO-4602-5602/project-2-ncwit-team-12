{
 "cells": [
  {
   "cell_type": "code",
   "execution_count": 34,
   "metadata": {
    "collapsed": true
   },
   "outputs": [],
   "source": [
    "import pandas as pd\n",
    "import numpy as np\n",
    "import csv, sys"
   ]
  },
  {
   "cell_type": "markdown",
   "metadata": {},
   "source": [
    "### Visualization 3\n",
    "Breakdown of graduation by year as an aggregate of institutions (m/f)"
   ]
  },
  {
   "cell_type": "code",
   "execution_count": 35,
   "metadata": {},
   "outputs": [
    {
     "name": "stdout",
     "output_type": "stream",
     "text": [
      "      Year  Total_F  Total_M\n",
      "0   2004.0     21.0    551.0\n",
      "1   2005.0     41.0    817.0\n",
      "2   2006.0     46.0   1058.0\n",
      "3   2007.0     37.0   1053.0\n",
      "4   2008.0     41.0    875.0\n",
      "5   2009.0     43.0   1183.0\n",
      "6   2010.0    127.0   2478.0\n",
      "7   2011.0    181.0   3632.0\n",
      "8   2012.0    264.0   4494.0\n",
      "9   2013.0    446.0   4363.0\n",
      "10  2014.0    503.0   5990.0\n",
      "11  2015.0    236.0   4977.0\n",
      "12  2016.0    283.0   3454.0\n",
      "13  2017.0      0.0      0.0\n"
     ]
    }
   ],
   "source": [
    "# Create dataframe from processed-data\n",
    "\n",
    "# dictionary for storing year, # female, # female graduated\n",
    "        \n",
    "# lists for processed csv use \n",
    "years = [\"2003-2004\", \"2004-2005\", \"2005-2006\", \"2006-2007\", \"2007-2008\", \"2008-2009\",\"2009-2010\", \"2010-2011\", \"2011-2012\", \"2012-2013\", \"2013-2014\", \"2014-2015\", \"2015-2016\", \"2016-2017\"]\n",
    "colnames= ['Total, Female: Graduated', 'Total, Male: Graduated'] \n",
    "\n",
    "# dataFrame for number of graduates m/f\n",
    "graphData = pd.DataFrame(columns=['Year','Total_F', 'Total_M'])\n",
    "graphX = 2004\n",
    "\n",
    "# extract data from processed-data\n",
    "for i in years:\n",
    "    filename = './processed-data/retention/' +  i + '.csv'\n",
    "    data = pd.read_csv(filename, usecols=colnames)\n",
    "    total_f = data[colnames[0]].sum()\n",
    "    total_m = data[colnames[1]].sum()\n",
    "    graphData = graphData.append({'Year':graphX, 'Total_F':total_f, 'Total_M':total_m},ignore_index=True)\n",
    "    graphX = graphX+1\n",
    "\n",
    "print(graphData)\n"
   ]
  },
  {
   "cell_type": "markdown",
   "metadata": {},
   "source": [
    "#### Linegraph "
   ]
  },
  {
   "cell_type": "code",
   "execution_count": 45,
   "metadata": {},
   "outputs": [],
   "source": [
    "# visualization\n",
    "\n",
    "import bokeh\n",
    "from bokeh.plotting import figure, output_file, show\n",
    "\n",
    "output_file('gradByYear.html')\n",
    "p = figure(plot_width=400, plot_height=400)\n",
    "p.title.text = \"Yearly Number of Graduates\"\n",
    "p.title.text_font_size = \"25px\"\n",
    "\n",
    "\n",
    "# plotting the data\n",
    "fl = p.line(graphData['Year'], graphData['Total_F'], line_width=2, color=\"red\", legend=\"females\")\n",
    "fc = p.circle(graphData['Year'], graphData['Total_F'],fill_color=\"red\", size=8)\n",
    "ml = p.line(graphData['Year'], graphData['Total_M'], color=\"blue\", legend = \"males\")\n",
    "mc = p.circle(graphData['Year'], graphData['Total_M'],fill_color=\"blue\", size=8)\n",
    "\n",
    "p.legend.location = \"top_left\"\n",
    "\n",
    "show(p)\n"
   ]
  },
  {
   "cell_type": "code",
   "execution_count": null,
   "metadata": {
    "collapsed": true
   },
   "outputs": [],
   "source": []
  }
 ],
 "metadata": {
  "kernelspec": {
   "display_name": "Python 3",
   "language": "python",
   "name": "python3"
  },
  "language_info": {
   "codemirror_mode": {
    "name": "ipython",
    "version": 3
   },
   "file_extension": ".py",
   "mimetype": "text/x-python",
   "name": "python",
   "nbconvert_exporter": "python",
   "pygments_lexer": "ipython3",
   "version": "3.6.1"
  }
 },
 "nbformat": 4,
 "nbformat_minor": 2
}
