{
 "cells": [
  {
   "cell_type": "code",
   "execution_count": 1,
   "metadata": {
    "collapsed": true
   },
   "outputs": [],
   "source": [
    "import pandas as pd\n",
    "import numpy as np"
   ]
  },
  {
   "cell_type": "code",
   "execution_count": 2,
   "metadata": {
    "scrolled": true
   },
   "outputs": [
    {
     "name": "stderr",
     "output_type": "stream",
     "text": [
      "/Users/joelmarquez/anaconda3/lib/python3.6/site-packages/IPython/core/interactiveshell.py:2728: DtypeWarning: Columns (1) have mixed types. Specify dtype option on import or set low_memory=False.\n",
      "  interactivity=interactivity, compiler=compiler, result=result)\n"
     ]
    }
   ],
   "source": [
    "df = pd.read_csv('NCWIT_DataV2_RawData_Edited.csv')"
   ]
  },
  {
   "cell_type": "markdown",
   "metadata": {},
   "source": [
    "The following function takes an attribute(attr) and a directory(loc), splits the data based on the attr and saves csv files based on the split to the directory passed in."
   ]
  },
  {
   "cell_type": "markdown",
   "metadata": {},
   "source": [
    "#### Viz 1\n",
    "\n",
    "Differences in retention depending on when students declare their majors?\n",
    "\n",
    "> Attributes: school year, When do students typically declare their major?, new enrollments(male & female), transfer students, left institution,  \n",
    "> When do students typically declare their major?\n"
   ]
  },
  {
   "cell_type": "code",
   "execution_count": 8,
   "metadata": {},
   "outputs": [],
   "source": [
    "declerations = splitData(\"When do students typically declare their major?\", df)\n",
    "retention = Retention()\n",
    "for declerationType in declerations.attrValues:\n",
    "    retention.addDeclerationType(declerationType, DeclerationTypeBlock(declerationType, splitData(\"School Year\", declerations.attrDict[declerationType]).getAttrs()))"
   ]
  },
  {
   "cell_type": "code",
   "execution_count": 9,
   "metadata": {},
   "outputs": [],
   "source": [
    "# retention.getDeclerationType(\"Upon Enrollment\").buildRetentionDataFrame()"
   ]
  },
  {
   "cell_type": "code",
   "execution_count": 10,
   "metadata": {},
   "outputs": [],
   "source": [
    "retention.to_csv(\"./processed-data/retention/\")"
   ]
  },
  {
   "cell_type": "markdown",
   "metadata": {},
   "source": [
    "### Helper Functions and Classes"
   ]
  },
  {
   "cell_type": "code",
   "execution_count": 11,
   "metadata": {
    "collapsed": true
   },
   "outputs": [],
   "source": [
    "class splitData(object):\n",
    "    '''\n",
    "    Params: attribute name and a dataframe \n",
    "    Variables:\n",
    "        @attrValues: All possible attribute values based on given attribute\n",
    "        @splitDict: Dictionary with an entry containing each attrValue and its corresponding dataframe\n",
    "    '''\n",
    "    def __init__(self, attr, df):\n",
    "        self.df = df\n",
    "        self.attr = attr\n",
    "        self.attrValues = self.setAttrValues()\n",
    "        self.attrDict = self.splitDataByAttrToDict()\n",
    "    def setAttrValues(self):\n",
    "        values = set()\n",
    "        for val in self.df[self.attr]:\n",
    "            values.add(val)\n",
    "        return values\n",
    "    def splitDataByAttrToDict(self):\n",
    "        splitDict = {}\n",
    "        for val in self.attrValues:\n",
    "            splitDict[val] = self.df.loc[self.df[self.attr] == val]\n",
    "        return splitDict\n",
    "    def getAttr(self, attrName):\n",
    "        if attrName not in self.attrDict:\n",
    "            print(\"Attribute not found!\")\n",
    "            return\n",
    "        return self.attrDict[attrName]\n",
    "    def getAttrs(self):\n",
    "        return self.attrDict\n",
    "    def toCsv(self, loc):\n",
    "        for val in self.attrValues:\n",
    "            self.attrDict[val].to_csv(loc + str(val) + '.csv', index=False)"
   ]
  },
  {
   "cell_type": "code",
   "execution_count": 4,
   "metadata": {},
   "outputs": [],
   "source": [
    "class Retention(object):\n",
    "    def __init__(self):\n",
    "        self.declerationTypes = {}\n",
    "    def addDeclerationType(self, declerationType, df):\n",
    "        self.declerationTypes[declerationType] = df\n",
    "    def getDeclerationType(self, declerationType):\n",
    "        if declerationType not in self.declerationTypes:\n",
    "            print(\"Decleration type not found!\")\n",
    "            return\n",
    "        return self.declerationTypes[declerationType]\n",
    "    def to_csv(self, loc):\n",
    "        for declerationType in self.declerationTypes:\n",
    "            self.declerationTypes[declerationType].buildRetentionDataFrame().to_csv(loc + str(declerationType) + '.csv', index=False)"
   ]
  },
  {
   "cell_type": "code",
   "execution_count": 5,
   "metadata": {
    "collapsed": true
   },
   "outputs": [],
   "source": [
    "class DeclerationTypeBlock(object):\n",
    "    def __init__(self, declerationType, df):\n",
    "        self.declerationType = declerationType\n",
    "        self.years = self.buildYearsDict(df)\n",
    "    def buildYearsDict(self, df):\n",
    "        years = {}\n",
    "        for year in df:\n",
    "            years[year] = yearBlock(self.declerationType, year, df[year])\n",
    "        return years\n",
    "    def getYear(self, year):\n",
    "        if year not in self.years:\n",
    "            print(\"The option for declared type not found!\")\n",
    "            return\n",
    "        return self.years[year]\n",
    "    def buildCalculationsDataFrame(self):\n",
    "        retDictList = []\n",
    "        for year in self.years:\n",
    "            retDictList.append(self.years[year].buildRetentionDict())\n",
    "        return pd.DataFrame(retDictList)\n",
    "    def buildRetentionDataFrame(self):\n",
    "        years = sorted(list(self.years.keys()))\n",
    "        retDictList = [] \n",
    "        for i in range(0, len(years)-1):\n",
    "            retDictList.append({\"year\": years[i+1],\n",
    "                                \"FemaleRetentionRate\": calculateRetention(self.years[years[i+1]].buildRetentionDict(), self.years[years[i]].buildRetentionDict(), \"Female\"),\n",
    "                                \"MaleRetentionRate\": calculateRetention(self.years[years[i+1]].buildRetentionDict(), self.years[years[i]].buildRetentionDict(), \"Male\")})\n",
    "        return pd.DataFrame(retDictList)"
   ]
  },
  {
   "cell_type": "code",
   "execution_count": 6,
   "metadata": {},
   "outputs": [],
   "source": [
    "class yearBlock(object):\n",
    "    def __init__(self, declerationType, year, df):\n",
    "        self.declerationType = declerationType\n",
    "        self.year = year\n",
    "        self.df = df\n",
    "        self.grades = [\"Freshmen\", \"Sophomores\", \"Juniors\", \"Seniors\", \"5th Yr Seniors\"]\n",
    "        self.races = [\"Asian\", \"Black/African American\", \"Hispanics of any race\", \"American Indian/Alaska Native\", \"Native Hawaiian/OtherPacific Islander\", \"Two or more races\", \"White\"]\n",
    "    def getDataFrame(self):\n",
    "        return self.df\n",
    "    def getCountByGradeAndGender(self, grade, gender):\n",
    "        count = 0\n",
    "        for race in self.races:\n",
    "            count += self.df[grade + \", \" + gender + \": \" + race + \" (\" + self.getGradeAbb(grade) + \" \" + self.getGenderAbb(gender) + \")\"].sum()\n",
    "        return count\n",
    "    def getCountByGrade(self, grade):\n",
    "        return self.getCountByGradeAndGender(grade, \"Female\") + self.getCountByGradeAndGender(grade, \"Male\")\n",
    "    def getCountByGender(self, gender):\n",
    "        count = 0\n",
    "        for race in self.races:\n",
    "            count += self.df[\"Totals, \" + gender + \": \" + race + \" (Tot. \" + self.getGenderAbb(gender) + \")\"].sum()\n",
    "        return count\n",
    "    def getNewEnrollmentCount(self, gender):\n",
    "        return self.df[\"Enroll, \" + gender + \": New Enrollments (Enrl \" + self.getGenderAbb(gender) + \")\"].sum()\n",
    "    def getTransferCount(self, gender):\n",
    "        return self.df[\"Enroll, \" + gender + \": Transfer Students (Enrl \" + self.getGenderAbb(gender) + \")\"].sum()\n",
    "    def getGenderAbb(self, gender):\n",
    "        return \"F\" if gender == \"Female\" else \"M\"\n",
    "    def getGradeAbb(self, grade):\n",
    "        return \"Fshm\" if grade == \"Freshmen\" else \"Sph.\" if grade == \"Sophomores\" else \"Jun.\" if grade == \"Juniors\" else \"Sen.\" if grade == \"Seniors\" else \"5 Sen\"\n",
    "    def buildRetentionDict(self):\n",
    "        ret = {\"School Year\": self.year, \"When do students typically declare their major?\": self.declerationType}\n",
    "        ret[\"Female, New Enrollments\"] = self.getNewEnrollmentCount(\"Female\")\n",
    "        ret[\"Male, New Enrollments\"] = self.getNewEnrollmentCount(\"Male\")\n",
    "        ret[\"Female, Transfer\"] = self.getTransferCount(\"Female\")\n",
    "        ret[\"Male, Transfer\"] = self.getTransferCount(\"Male\")\n",
    "        ret[\"Total, Female\"] = self.getCountByGender(\"Female\")\n",
    "        ret[\"Total, Male\"] = self.getCountByGender(\"Male\")\n",
    "        return ret"
   ]
  },
  {
   "cell_type": "code",
   "execution_count": 7,
   "metadata": {},
   "outputs": [],
   "source": [
    "def calculateRetention(y1, y2, gender=None):\n",
    "    totYear1 = y1[\"Total, \"+gender]\n",
    "    totYear2 = (y2[\"Total, \"+gender] - y2[gender+\", New Enrollments\"] - y2[gender+\", Transfer\"])\n",
    "    diff = totYear2 - totYear1\n",
    "    change = totYear1 + diff\n",
    "    return 0 if totYear1 == 0 else 1 if (change/totYear1) >= 1 else (change/totYear1)"
   ]
  },
  {
   "cell_type": "code",
   "execution_count": null,
   "metadata": {},
   "outputs": [],
   "source": []
  }
 ],
 "metadata": {
  "kernelspec": {
   "display_name": "Python 3",
   "language": "python",
   "name": "python3"
  },
  "language_info": {
   "codemirror_mode": {
    "name": "ipython",
    "version": 3
   },
   "file_extension": ".py",
   "mimetype": "text/x-python",
   "name": "python",
   "nbconvert_exporter": "python",
   "pygments_lexer": "ipython3",
   "version": "3.6.3"
  }
 },
 "nbformat": 4,
 "nbformat_minor": 2
}
