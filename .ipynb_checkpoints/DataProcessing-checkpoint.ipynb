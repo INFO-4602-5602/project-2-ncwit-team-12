{
 "cells": [
  {
   "cell_type": "code",
   "execution_count": 1,
   "metadata": {
    "collapsed": true
   },
   "outputs": [],
   "source": [
    "import pandas\n",
    "import numpy as np"
   ]
  },
  {
   "cell_type": "code",
   "execution_count": 2,
   "metadata": {
    "scrolled": true
   },
   "outputs": [
    {
     "name": "stderr",
     "output_type": "stream",
     "text": [
      "/Users/joelmarquez/anaconda3/lib/python3.6/site-packages/IPython/core/interactiveshell.py:2728: DtypeWarning: Columns (1) have mixed types. Specify dtype option on import or set low_memory=False.\n",
      "  interactivity=interactivity, compiler=compiler, result=result)\n"
     ]
    }
   ],
   "source": [
    "df = pandas.read_csv('NCWIT_DataV2_RawData.csv')"
   ]
  },
  {
   "cell_type": "markdown",
   "metadata": {},
   "source": [
    "The following function takes an attribute(attr) and a directory(loc), splits the data based on the attr and saves csv files based on the split to the directory passed in."
   ]
  },
  {
   "cell_type": "code",
   "execution_count": null,
   "metadata": {
    "collapsed": true
   },
   "outputs": [],
   "source": [
    "def splitDataByAttrToFile(attr, loc):\n",
    "    attrs = set()\n",
    "\n",
    "    for i in df[attr]:\n",
    "        attrs.add(i)\n",
    "\n",
    "    for ii in attrs:\n",
    "        df.loc[df[attr] == ii].drop(df.columns[0], axis=1).to_csv(loc + str(ii) + '.csv')"
   ]
  },
  {
   "cell_type": "code",
   "execution_count": null,
   "metadata": {
    "collapsed": true
   },
   "outputs": [],
   "source": [
    "#Split by school year\n",
    "#splitDataByAttr(\"School Year\", \"processed-data/byyear/\")\n",
    "#Split by institution\n",
    "#splitDataByAttr(\"Institution\", \"processed-data/byschool/\")"
   ]
  },
  {
   "cell_type": "markdown",
   "metadata": {},
   "source": [
    "#### Viz 1\n",
    "\n",
    "Differences in retention depending on when students declare their majors?\n",
    "\n",
    "> Attributes: school year, When do students typically declare their major?, new enrollments(male & female), transfer students, left institution,  \n",
    "> When do students typically declare their major?\n"
   ]
  },
  {
   "cell_type": "code",
   "execution_count": 35,
   "metadata": {},
   "outputs": [],
   "source": [
    "class splitData(object):\n",
    "    '''\n",
    "    This class takes an attribute name and will create a dictionary holding a set\n",
    "    of rows from the data based on each value of the attribute\n",
    "    '''\n",
    "    def __init__(self, attr):\n",
    "        self.attr = attr\n",
    "        self.attrValues = self.getAttrValues()\n",
    "        self.splitDict = self.splitDataByAttrToDict()\n",
    "        \n",
    "    def getAttrValues(self):\n",
    "        values = set()\n",
    "        for val in df[self.attr]:\n",
    "            values.add(val)\n",
    "        return values\n",
    "    \n",
    "    def splitDataByAttrToDict(self):\n",
    "        splitDict = {}\n",
    "        for val in self.attrValues:\n",
    "            splitDict[val] = df.loc[df[self.attr] == val]\n",
    "        return splitDict\n",
    "    "
   ]
  },
  {
   "cell_type": "code",
   "execution_count": 40,
   "metadata": {},
   "outputs": [
    {
     "data": {
      "text/plain": [
       "{' ',\n",
       " '2003-2004',\n",
       " '2004-2005',\n",
       " '2005-2006',\n",
       " '2006-2007',\n",
       " '2007-2008',\n",
       " '2008-2009',\n",
       " '2009-2010',\n",
       " '2010-2011',\n",
       " '2011-2012',\n",
       " '2012-2013',\n",
       " '2013-2014',\n",
       " '2014-2015',\n",
       " '2015-2016',\n",
       " '2016-2017',\n",
       " nan}"
      ]
     },
     "execution_count": 40,
     "metadata": {},
     "output_type": "execute_result"
    }
   ],
   "source": [
    "splitDeclareDate = splitData(\"School Year\")\n",
    "splitDeclareDate.attrValues"
   ]
  },
  {
   "cell_type": "code",
   "execution_count": null,
   "metadata": {},
   "outputs": [],
   "source": []
  }
 ],
 "metadata": {
  "kernelspec": {
   "display_name": "Python 3",
   "language": "python",
   "name": "python3"
  },
  "language_info": {
   "codemirror_mode": {
    "name": "ipython",
    "version": 3
   },
   "file_extension": ".py",
   "mimetype": "text/x-python",
   "name": "python",
   "nbconvert_exporter": "python",
   "pygments_lexer": "ipython3",
   "version": "3.6.3"
  }
 },
 "nbformat": 4,
 "nbformat_minor": 2
}
