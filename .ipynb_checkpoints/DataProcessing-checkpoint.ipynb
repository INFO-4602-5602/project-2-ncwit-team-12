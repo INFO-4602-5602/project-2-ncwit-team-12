{
 "cells": [
  {
   "cell_type": "code",
   "execution_count": 78,
   "metadata": {
    "collapsed": true
   },
   "outputs": [],
   "source": [
    "import pandas as pd\n",
    "import numpy as np"
   ]
  },
  {
   "cell_type": "code",
   "execution_count": 2,
   "metadata": {
    "scrolled": true
   },
   "outputs": [
    {
     "name": "stderr",
     "output_type": "stream",
     "text": [
      "/Users/joelmarquez/anaconda3/lib/python3.6/site-packages/IPython/core/interactiveshell.py:2728: DtypeWarning: Columns (1) have mixed types. Specify dtype option on import or set low_memory=False.\n",
      "  interactivity=interactivity, compiler=compiler, result=result)\n"
     ]
    }
   ],
   "source": [
    "df = pandas.read_csv('NCWIT_DataV2_RawData_Edited.csv')"
   ]
  },
  {
   "cell_type": "markdown",
   "metadata": {},
   "source": [
    "The following function takes an attribute(attr) and a directory(loc), splits the data based on the attr and saves csv files based on the split to the directory passed in."
   ]
  },
  {
   "cell_type": "markdown",
   "metadata": {},
   "source": [
    "#### Viz 1\n",
    "\n",
    "Differences in retention depending on when students declare their majors?\n",
    "\n",
    "> Attributes: school year, When do students typically declare their major?, new enrollments(male & female), transfer students, left institution,  \n",
    "> When do students typically declare their major?\n"
   ]
  },
  {
   "cell_type": "code",
   "execution_count": 95,
   "metadata": {},
   "outputs": [],
   "source": [
    "schoolyears = splitData(\"School Year\", df)\n",
    "retention = Retention()\n",
    "for year in schoolyears.attrValues:\n",
    "    retention.addYear(year, YearDataBlock(year, splitData(\"When do students typically declare their major?\", schoolyears.attrDict[year]).getAttrs()))"
   ]
  },
  {
   "cell_type": "code",
   "execution_count": 96,
   "metadata": {},
   "outputs": [],
   "source": [
    "retention.to_csv(\"./processed-data/retention/\")"
   ]
  },
  {
   "cell_type": "markdown",
   "metadata": {},
   "source": [
    "### Helper Functions and Classes"
   ]
  },
  {
   "cell_type": "code",
   "execution_count": 93,
   "metadata": {
    "collapsed": true
   },
   "outputs": [],
   "source": [
    "class splitData(object):\n",
    "    '''\n",
    "    Params: attribute name and a dataframe \n",
    "    Variables:\n",
    "        @attrValues: All possible attribute values based on given attribute\n",
    "        @splitDict: Dictionary with an entry containing each attrValue and its corresponding dataframe\n",
    "    '''\n",
    "    def __init__(self, attr, df):\n",
    "        self.df = df\n",
    "        self.attr = attr\n",
    "        self.attrValues = self.setAttrValues()\n",
    "        self.attrDict = self.splitDataByAttrToDict()\n",
    "        \n",
    "    def setAttrValues(self):\n",
    "        values = set()\n",
    "        for val in self.df[self.attr]:\n",
    "            values.add(val)\n",
    "        return values\n",
    "    \n",
    "    def splitDataByAttrToDict(self):\n",
    "        splitDict = {}\n",
    "        for val in self.attrValues:\n",
    "            splitDict[val] = self.df.loc[self.df[self.attr] == val]\n",
    "        return splitDict\n",
    "    \n",
    "    def getAttr(self, attrName):\n",
    "        if attrName not in self.attrDict:\n",
    "            print(\"Attribute not found!\")\n",
    "            return\n",
    "        return self.attrDict[attrName]\n",
    "    \n",
    "    def getAttrs(self):\n",
    "        return self.attrDict\n",
    "    \n",
    "    def toCsv(self, loc):\n",
    "        for val in self.attrValues:\n",
    "            self.attrDict[val].to_csv(loc + str(val) + '.csv')"
   ]
  },
  {
   "cell_type": "code",
   "execution_count": 92,
   "metadata": {},
   "outputs": [],
   "source": [
    "class Retention(object):\n",
    "    def __init__(self):\n",
    "        self.years = {}\n",
    "    def addYear(self, year, yearData):\n",
    "        self.years[year] = yearData\n",
    "    def getYear(self, year):\n",
    "        if year not in self.years:\n",
    "            print(\"Year not found!\")\n",
    "            return\n",
    "        return self.years[year]\n",
    "    def to_csv(self, loc):\n",
    "        for year in self.years:\n",
    "            self.years[year].buildRetentionDataFrame().to_csv(loc + str(year) + '.csv')\n",
    "    \n",
    "class YearDataBlock(object):\n",
    "    def __init__(self, year, declaredYearDict):\n",
    "        self.year = year\n",
    "        self.majorDeclerationDict = self.buildMajorDeclerationDict(declaredYearDict)\n",
    "    def buildMajorDeclerationDict(self, d):\n",
    "        majorDeclerationDict = {}\n",
    "        for attr in d:\n",
    "            majorDeclerationDict[attr] = MajorDeclerationBlock(self.year, attr, d[attr])\n",
    "        return majorDeclerationDict\n",
    "    def getDeclaredOn(self, declaredType):\n",
    "        if declaredType not in self.majorDeclerationDict:\n",
    "            print(\"The option for declared type not found!\")\n",
    "            return\n",
    "        return self.majorDeclerationDict[declaredType]\n",
    "    def buildRetentionDataFrame(self):\n",
    "        retDictList = []\n",
    "        for majorDecleration in self.majorDeclerationDict:\n",
    "            retDictList.append(self.majorDeclerationDict[majorDecleration].buildRetentionDict())\n",
    "        return pd.DataFrame(retDictList)\n",
    "\n",
    "class MajorDeclerationBlock(object):\n",
    "    def __init__(self, year,  majorDeclaredType, df):\n",
    "        self.year = year\n",
    "        self.majorDeclaredType = majorDeclaredType\n",
    "        self.df = df\n",
    "        self.grades = [\"Freshmen\", \"Sophomores\", \"Juniors\", \"Seniors\", \"5th Yr Seniors\"]\n",
    "        self.races = [\"Asian\", \"Black/African American\", \"Hispanics of any race\", \"American Indian/Alaska Native\", \"Native Hawaiian/OtherPacific Islander\", \"Two or more races\", \"White\"]\n",
    "    def getDataFrame(self):\n",
    "        return self.df\n",
    "    def getCountByGradeAndGender(self, grade, gender):\n",
    "        gradeAbv = \"Fshm\" if grade == \"Freshmen\" else \"Sph.\" if grade == \"Sophomores\" else \"Jun.\" if grade == \"Juniors\" else \"Sen.\" if grade == \"Seniors\" else \"5 Sen\"\n",
    "        genderAbv = \"F\" if gender == \"Female\" else \"M\"\n",
    "        count = 0\n",
    "        for race in self.races:\n",
    "            count += self.df[grade + \", \" + gender + \": \" + race + \" (\" + gradeAbv + \" \" + genderAbv + \")\"].sum()\n",
    "        return count\n",
    "    def getCountByGender(self, gender):\n",
    "        count = 0\n",
    "        for grade in self.grades:\n",
    "            count += self.getCountByGradeAndGender(grade, gender)\n",
    "        return count\n",
    "    def getCountByGrade(self, grade):\n",
    "        return self.getCountByGradeAndGender(grade, \"Female\") + self.getCountByGradeAndGender(grade, \"Male\")\n",
    "    def getLeftCountByGradeAndGender(self, grade, gender):\n",
    "        gradeAbv = \"Fshm\" if grade == \"Freshmen\" else \"Sph.\" if grade == \"Sophomores\" else \"Jun.\" if grade == \"Juniors\" else \"Sen.\" if grade == \"Seniors\" else \"5 Sen\"\n",
    "        genderAbv = \"F\" if gender == \"Female\" else \"M\"\n",
    "        count = self.df[grade + \", \" + gender + \": \" + \"Left Institution (not graduated)\" + \" (\" + gradeAbv + \" \" + genderAbv + \")\"].sum()\n",
    "        return count\n",
    "    def getLeftCountByGender(self, gender):\n",
    "        count = 0\n",
    "        for grade in self.grades:\n",
    "            count += self.getLeftCountByGradeAndGender(grade, gender)\n",
    "        return count\n",
    "    def getLeftCountByGrade(self, grade):\n",
    "        return self.getLeftCountByGradeAndGender(grade, \"Female\") + self.getLeftCountByGradeAndGender(grade, \"Male\")\n",
    "    def getGradCountByGradeAndGender(self, grade, gender):\n",
    "        gradeAbv = \"Fshm\" if grade == \"Freshmen\" else \"Sph.\" if grade == \"Sophomores\" else \"Jun.\" if grade == \"Juniors\" else \"Sen.\" if grade == \"Seniors\" else \"5 Sen\"\n",
    "        genderAbv = \"F\" if gender == \"Female\" else \"M\"\n",
    "        count = self.df[grade + \", \" + gender + \": \" + \"Graduated\" + \" (\" + gradeAbv + \" \" + genderAbv + \")\"].sum()\n",
    "        return count\n",
    "    def getGradCountByGender(self, gender):\n",
    "        count = 0\n",
    "        for grade in self.grades:\n",
    "            count += self.getGradCountByGradeAndGender(grade, gender)\n",
    "        return count\n",
    "    def getGradCountByGrade(self, grade):\n",
    "        return self.getGradCountByGradeAndGender(grade, \"Female\") + self.getGradCountByGradeAndGender(grade, \"Male\")\n",
    "    def buildRetentionDict(self):\n",
    "        ret = {\"School Year\": self.year, \"When do students typically declare their major?\": self.majorDeclaredType}\n",
    "        for grade in self.grades:\n",
    "            ret[grade+\", Female\"] = self.getCountByGradeAndGender(grade, \"Female\")\n",
    "            ret[grade+\", Male\"] = self.getCountByGradeAndGender(grade, \"Male\")\n",
    "            ret[grade+\", Female: Left Institution\"] = self.getLeftCountByGradeAndGender(grade, \"Female\")\n",
    "            ret[grade+\", Male: Left Institution\"] = self.getLeftCountByGradeAndGender(grade, \"Male\")\n",
    "            ret[grade+\", Female: Graduated\"] = self.getGradCountByGradeAndGender(grade, \"Female\")\n",
    "            ret[grade+\", Male: Graduated\"] = self.getGradCountByGradeAndGender(grade, \"Male\")\n",
    "            ret[\"Total, \"+grade + \": Left Institution\"] = self.getLeftCountByGrade(grade)\n",
    "            ret[\"Total, \"+grade + \": Graduated\"] = self.getGradCountByGrade(grade)\n",
    "            ret[\"Total, \"+grade] = self.getCountByGrade(grade)\n",
    "        ret[\"Total, Female\"] = self.getCountByGender(\"Female\")\n",
    "        ret[\"Total, Male\"] = self.getCountByGender(\"Male\")\n",
    "        ret[\"Total, Female: Left Institution\"] = self.getLeftCountByGender(\"Female\")\n",
    "        ret[\"Total, Male: Left Institution\"] = self.getLeftCountByGender(\"Male\")\n",
    "        ret[\"Total, Female: Graduated\"] = self.getLeftCountByGender(\"Female\")\n",
    "        ret[\"Total, Male: Graduated\"] = self.getGradCountByGender(\"Male\")\n",
    "        \n",
    "        return ret"
   ]
  },
  {
   "cell_type": "code",
   "execution_count": null,
   "metadata": {
    "collapsed": true
   },
   "outputs": [],
   "source": []
  }
 ],
 "metadata": {
  "kernelspec": {
   "display_name": "Python 3",
   "language": "python",
   "name": "python3"
  },
  "language_info": {
   "codemirror_mode": {
    "name": "ipython",
    "version": 3
   },
   "file_extension": ".py",
   "mimetype": "text/x-python",
   "name": "python",
   "nbconvert_exporter": "python",
   "pygments_lexer": "ipython3",
   "version": "3.6.3"
  }
 },
 "nbformat": 4,
 "nbformat_minor": 2
}
