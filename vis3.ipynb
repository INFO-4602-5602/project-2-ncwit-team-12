{
 "cells": [
  {
   "cell_type": "code",
   "execution_count": 1,
   "metadata": {
    "collapsed": true
   },
   "outputs": [],
   "source": [
    "import pandas as pd\n",
    "import numpy as np\n",
    "import csv, sys"
   ]
  },
  {
   "cell_type": "markdown",
   "metadata": {},
   "source": [
    "### Visualization 3\n",
    "3 plots showing breakdown of graduation by year as an aggregate of institutions (m/f)  \n",
    "* one: total female and total male by year  \n",
    "* two: female broken out by ennrollment type  \n",
    "* three: male broken out by enrollment type"
   ]
  },
  {
   "cell_type": "code",
   "execution_count": 2,
   "metadata": {
    "collapsed": true
   },
   "outputs": [],
   "source": [
    "# Create dataframe from processed-data\n",
    "\n",
    "# dictionary for storing year, # female graduated, # male graduated\n",
    "        \n",
    "# lists for processed csv use \n",
    "years = [\"2004-2005\", \"2005-2006\", \"2006-2007\", \"2007-2008\", \"2008-2009\",\"2009-2010\", \"2010-2011\", \"2011-2012\", \"2012-2013\", \"2013-2014\", \"2014-2015\", \"2015-2016\"]\n",
    "colnames= ['Total, Female: Graduated', 'Total, Male: Graduated'] \n",
    "\n",
    "# dataFrame for number of graduates\n",
    "graphData = pd.DataFrame(columns=['Year','Total_F', 'Total_M', 'Yr1_F', 'Yr1_M', 'Yr2_F', 'Yr2_M', 'Enr_F', 'Enr_M','Oth_F','Oth_M'])\n",
    "graphX = 2005\n",
    "\n",
    "# extract data from processed-data\n",
    "for i in years:\n",
    "    filename = './processed-data/retention/' +  i + '.csv'\n",
    "    data = pd.read_csv(filename, usecols=colnames)\n",
    "    total_f = data[colnames[0]].sum()\n",
    "    total_m = data[colnames[1]].sum()\n",
    "    yr1_f = data.iloc[1][colnames[0]]\n",
    "    yr1_m = data.iloc[1][colnames[1]]\n",
    "    yr2_f = data.iloc[0][colnames[0]]\n",
    "    yr2_m = data.iloc[0][colnames[1]]\n",
    "    enr_f = data.iloc[2][colnames[0]]\n",
    "    enr_m = data.iloc[2][colnames[1]]\n",
    "    oth_f = data.iloc[3][colnames[0]]\n",
    "    oth_m = data.iloc[3][colnames[1]]\n",
    "    graphData = graphData.append({'Year':graphX, 'Total_F':total_f, 'Total_M':total_m,\\\n",
    "                                  'Yr1_F':yr1_f, 'Yr1_M':yr1_m, 'Yr2_F':yr2_f, 'Yr2_M':yr2_m,\\\n",
    "                                  'Enr_F':enr_f, 'Enr_M':enr_m, 'Oth_F':oth_f, 'Oth_M':oth_m},ignore_index=True)\n",
    "    graphX = graphX+1\n",
    "\n",
    "pd.options.display.float_format = '{:,.0f}'.format\n",
    "# print(graphData)\n"
   ]
  },
  {
   "cell_type": "markdown",
   "metadata": {},
   "source": [
    "#### Linegraphs"
   ]
  },
  {
   "cell_type": "code",
   "execution_count": 3,
   "metadata": {
    "collapsed": true
   },
   "outputs": [],
   "source": [
    "# plot 1: Graduation by year, female vs male\n",
    "\n",
    "import bokeh\n",
    "from bokeh.plotting import figure, output_file, show\n",
    "from bokeh.models import HoverTool\n",
    "from bokeh.models import Range1d\n",
    "\n",
    "\n",
    "def totalPlot():\n",
    "    p1 = figure(plot_width=400, plot_height=400, toolbar_sticky=False, tools=\"box_zoom,reset\")\n",
    "    p1.title.text = \"Graduation Pattern: Females and Males\"\n",
    "    p1.title.text_font_size = \"15px\"\n",
    "    p1.x_range = Range1d(2005, 2017)\n",
    "    p1.outline_line_width = 2\n",
    "    p1.xaxis.axis_label = \"Graduation Year\"\n",
    "    p1.yaxis.axis_label = \"Number of Graduates\"\n",
    "    p1.xaxis.minor_tick_line_color = None\n",
    "    p1.background_fill_color = \"whitesmoke\"\n",
    "    p1.background_fill_alpha = 0.5\n",
    "    p1.legend.border_line_width = 2\n",
    "    p1.legend.border_line_color = \"grey\"\n",
    "\n",
    "\n",
    "    # plotting the data\n",
    "    fl = p1.line(graphData['Year'], graphData['Total_F'], line_width=2, color=\"red\", legend=\"females\")\n",
    "    fc = p1.circle(graphData['Year'], graphData['Total_F'], color=\"red\", size=8, legend=\"females\")\n",
    "    ml = p1.line(graphData['Year'], graphData['Total_M'], color=\"blue\", legend = \"males\")\n",
    "    mc = p1.circle(graphData['Year'], graphData['Total_M'], color=\"blue\", size=8, legend=\"males\")\n",
    "\n",
    "    p1.legend.location = \"top_left\"\n",
    "    #p1.legend.click_policy=\"hide\"\n",
    "    return[p1]\n"
   ]
  },
  {
   "cell_type": "code",
   "execution_count": 4,
   "metadata": {
    "collapsed": true
   },
   "outputs": [],
   "source": [
    "# 2 interactive plots. one for females, one for males\n",
    "\n",
    "def fmPlot():\n",
    "    # plot 2: Females by year broken out by enrollment type\n",
    "    p2 = figure(plot_width=300, plot_height=300, toolbar_sticky=False, tools=\"box_zoom,reset\")\n",
    "    p2.title.text = \"Graduation Pattern by Enrollment Type: Females\"\n",
    "    p2.title.text_font_size = \"15px\"\n",
    "    p2.x_range = Range1d(2005, 2017)\n",
    "    p2.outline_line_width = 2\n",
    "    p2.xaxis.axis_label = \"Graduation Year\"\n",
    "    p2.yaxis.axis_label = \"Number of Graduates\"\n",
    "    p2.xaxis.minor_tick_line_color = None\n",
    "    p2.background_fill_color = \"whitesmoke\"\n",
    "    p2.background_fill_alpha = 0.5\n",
    "    p2.legend.border_line_width = 2\n",
    "    p2.legend.border_line_color = \"grey\"\n",
    "\n",
    "    # plotting the data\n",
    "    fl = p2.line(graphData['Year'], graphData['Total_F'], line_width=2, color=\"black\", legend=\"total\")\n",
    "    fc = p2.circle(graphData['Year'], graphData['Total_F'], color=\"black\", size=8, legend=\"total\")\n",
    "\n",
    "    fenl = p2.line(graphData['Year'], graphData['Enr_F'], line_width=2, color=\"#253494\", legend=\"upon enrollment\")\n",
    "    fenc = p2.circle(graphData['Year'], graphData['Enr_F'], color=\"#253494\", size=8, legend=\"upon enrollment\")\n",
    "\n",
    "    fy1l = p2.line(graphData['Year'], graphData['Yr1_F'], line_width=2, color=\"#2c7fb8\", legend=\"year 1\")\n",
    "    fy1c = p2.circle(graphData['Year'], graphData['Yr1_F'], color=\"#2c7fb8\", size=8, legend=\"year 1\")\n",
    "\n",
    "    fy2l = p2.line(graphData['Year'], graphData['Yr2_F'], line_width=2, color=\"#41b6c4\", legend=\"year 2\")\n",
    "    fy2c = p2.circle(graphData['Year'], graphData['Yr2_F'], color=\"#41b6c4\", size=8, legend=\"year 2\")\n",
    "\n",
    "    fotl = p2.line(graphData['Year'], graphData['Oth_F'], line_width=2, color=\"#7fcdbb\", legend=\"other\")\n",
    "    fotc = p2.circle(graphData['Year'], graphData['Oth_F'], color=\"#7fcdbb\", size=8, legend=\"other\")\n",
    "\n",
    "    p2.legend.location = \"top_left\"\n",
    "    p2.legend.click_policy=\"hide\"\n",
    "    \n",
    "    # plot 3: Females by year broken out by enrollment type\n",
    "    \n",
    "    p3 = figure(plot_width=300, plot_height=300, toolbar_sticky=False, tools=\"box_zoom,reset\")\n",
    "    p3.title.text = \"Graduation Pattern By Enrollment Type: Males\"\n",
    "    p3.title.text_font_size = \"15px\"\n",
    "    p3.x_range = Range1d(2005, 2017)\n",
    "    p3.outline_line_width = 2\n",
    "    p3.xaxis.axis_label = \"Graduation Year\"\n",
    "    p3.yaxis.axis_label = \"Number of Graduates\"\n",
    "    p3.xaxis.minor_tick_line_color = None\n",
    "    p3.background_fill_color = \"whitesmoke\"\n",
    "    p3.background_fill_alpha = 0.5\n",
    "    p3.legend.border_line_width = 2\n",
    "    p3.legend.border_line_color = \"grey\"\n",
    "\n",
    "    # plotting the data\n",
    "    ml = p3.line(graphData['Year'], graphData['Total_M'], color=\"black\", legend = \"total\")\n",
    "    mc = p3.circle(graphData['Year'], graphData['Total_M'], color=\"black\", size=8, legend=\"total\")\n",
    "\n",
    "    menl = p3.line(graphData['Year'], graphData['Enr_M'], color=\"#253494\", legend = \"upon enrollment\")\n",
    "    menc = p3.circle(graphData['Year'], graphData['Enr_M'], color=\"#253494\", size=8, legend=\"upon enrollment\")\n",
    "\n",
    "    my1l = p3.line(graphData['Year'], graphData['Yr1_M'], color=\"#2c7fb8\", legend = \"year 1\")\n",
    "    my1c = p3.circle(graphData['Year'], graphData['Yr1_M'], color=\"#2c7fb8\", size=8, legend=\"year 1\")\n",
    "\n",
    "    my2l = p3.line(graphData['Year'], graphData['Yr2_M'], color=\"#41b6c4\", legend = \"year 2\")\n",
    "    my2c = p3.circle(graphData['Year'], graphData['Yr2_M'], color=\"#41b6c4\", size=8, legend=\"year 2\")\n",
    "\n",
    "    motl = p3.line(graphData['Year'], graphData['Oth_M'], color=\"#7fcdbb\", legend = \"other\")\n",
    "    motc = p3.circle(graphData['Year'], graphData['Oth_M'], color=\"#7fcdbb\", size=8, legend=\"other\")\n",
    "\n",
    "    p3.legend.location = \"top_left\"\n",
    "    p3.legend.click_policy=\"hide\"\n",
    "\n",
    "    return[p2, p3]\n"
   ]
  },
  {
   "cell_type": "code",
   "execution_count": 5,
   "metadata": {
    "collapsed": true
   },
   "outputs": [],
   "source": [
    "from bokeh.layouts import layout\n",
    "from bokeh.layouts import gridplot\n",
    "\n",
    "output_file(\"vis3.html\")\n",
    "\n",
    "# make a grid\n",
    "l = layout([\n",
    "    totalPlot(),\n",
    "    fmPlot(),\n",
    "], sizing_mode='stretch_both')\n",
    "\n",
    "# show the results\n",
    "\n",
    "show(l)"
   ]
  }
 ],
 "metadata": {
  "kernelspec": {
   "display_name": "Python 3",
   "language": "python",
   "name": "python3"
  },
  "language_info": {
   "codemirror_mode": {
    "name": "ipython",
    "version": 3
   },
   "file_extension": ".py",
   "mimetype": "text/x-python",
   "name": "python",
   "nbconvert_exporter": "python",
   "pygments_lexer": "ipython3",
   "version": "3.6.1"
  }
 },
 "nbformat": 4,
 "nbformat_minor": 2
}
